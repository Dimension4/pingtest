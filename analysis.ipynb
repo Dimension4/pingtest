{
 "cells": [
  {
   "cell_type": "code",
   "execution_count": 198,
   "metadata": {},
   "outputs": [],
   "source": [
    "from matplotlib import pyplot as plt\n",
    "from matplotlib import ticker as mticker\n",
    "from matplotlib import dates as mdates\n",
    "from pathlib import Path\n",
    "import numpy as np\n",
    "import json\n",
    "from collections import namedtuple\n",
    "from dateutil.parser import isoparse\n",
    "from collections import defaultdict\n",
    "from datetime import datetime\n",
    "\n",
    "DATA_DIR = Path(\"~/OneDrive/Documents/pingtest\").expanduser()\n",
    "TIMEOUT = 4294967295"
   ]
  },
  {
   "cell_type": "code",
   "execution_count": 207,
   "metadata": {},
   "outputs": [],
   "source": [
    "Record = namedtuple(\"Record\", [\"start_time\", \"duration\", \"interval\", \"targets\"])\n",
    "Target = namedtuple(\"Target\", [\"host_name\", \"ip\", \"pings\"])\n",
    "Dataset = namedtuple(\"Dataset\", [\"host_name\", \"ips\", \"pings\"])\n",
    "\n",
    "def parseTarget(target) -> Target:\n",
    "    target = Target(**target)\n",
    "    m = map(lambda x: (x[\"started_at\"], x[\"rtt\"]), target.pings)\n",
    "    target = target._replace(pings = np.array([r for r in m if r[1] != TIMEOUT]))\n",
    "    return target\n",
    "\n",
    "def loadData(path: Path) -> Record:\n",
    "    data = json.loads(path.read_text())\n",
    "    rec = Record(**data)\n",
    "    rec = rec._replace(\n",
    "        targets = list(map(parseTarget, rec.targets)),\n",
    "        start_time = np.datetime64(isoparse(rec.start_time).replace(tzinfo=None), \"ms\"))\n",
    "    return rec\n",
    "\n",
    "def transformPings(startTime: np.datetime64, pings: np.ndarray):\n",
    "    time = startTime + pings[:,0].astype(\"timedelta64[ms]\")\n",
    "    rtt = pings[:,1].astype(\"timedelta64[ms]\")\n",
    "    return time, rtt\n",
    "\n",
    "def joinDatasets(records: list[Record]) -> list[Dataset]:\n",
    "    sets = defaultdict(lambda: Dataset(\"\", set(), (np.array([], dtype=\"datetime64[ms]\"), np.array([], dtype=\"timedelta64[ms]\"))))\n",
    "    for record in records:\n",
    "        for target in record.targets:\n",
    "            time, rtt = transformPings(record.start_time, target.pings)\n",
    "            key = target.host_name if len(target.host_name) > 0 else target.ip\n",
    "            d = sets[key]\n",
    "            d.ips.add(target.ip)\n",
    "            d = Dataset(target.host_name, d.ips, (np.r_[d.pings[0], time], np.r_[d.pings[1], rtt]))\n",
    "            sets[key] = d\n",
    "\n",
    "    for k, ds in sets.items():\n",
    "        sets[k] = ds._replace(ips = list(ds.ips))\n",
    "\n",
    "    return list(sets.values())"
   ]
  },
  {
   "cell_type": "code",
   "execution_count": null,
   "metadata": {},
   "outputs": [],
   "source": [
    "MAX_IPS = 3\n",
    "\n",
    "datasets = [loadData(x) for x in DATA_DIR.iterdir() if x.is_file()]\n",
    "datasets = joinDatasets(datasets)\n",
    "\n",
    "fig, axs = plt.subplots(len(datasets), 1, sharex=True)\n",
    "fig.set_dpi(150)\n",
    "fig.set_size_inches(24, 6 * len(datasets))\n",
    "fig.patch.set_facecolor(\"white\")\n",
    "\n",
    "for i, (target, ax) in enumerate(zip(datasets, axs)):\n",
    "    time = target.pings[0].astype(datetime)\n",
    "    rtt = target.pings[1]\n",
    "\n",
    "    ips = str.join(', ', target.ips[:MAX_IPS])\n",
    "    if len(target.ips) >= MAX_IPS:\n",
    "        ips += \", ...\"\n",
    "    title = f\"{target.host_name} ({ips})\" if len(target.host_name) > 0 else ips\n",
    "    ax.set_title(title)\n",
    "    ax.grid(axis=\"y\")\n",
    "    ax.tick_params(labelbottom=True)\n",
    "    # ax.set_xlabel(\"Time\")\n",
    "    # ax.set_ylabel(\"Ping\")\n",
    "    ax.set_ylim((1, 1000))\n",
    "    ax.set_yscale(\"symlog\", linthresh=100)\n",
    "    ax.set_yticks([0, 20, 40, 60, 80, 100, 200, 400, 800])\n",
    "    ax.yaxis.set_major_formatter(mticker.FormatStrFormatter(\"%i ms\"))\n",
    "    ax.xaxis.set_major_formatter(mdates.ConciseDateFormatter(ax.xaxis.get_major_locator()))\n",
    "\n",
    "    ax.axhline(100, c='red', linewidth=1, alpha=0.5)\n",
    "    ax.axhline(60, c='orange', linewidth=1, alpha=0.5)\n",
    "\n",
    "    above100 = np.count_nonzero(rtt > np.timedelta64(100, \"ms\")) / len(rtt)\n",
    "    above60 = np.count_nonzero(rtt > np.timedelta64(60, \"ms\")) / len(rtt)\n",
    "    stats = f\">100ms: {above100:.2%}\\n>60ms: {above60:.2%}\"\n",
    "    ax.text(0.08, 0.85, stats, transform=ax.transAxes, horizontalalignment=\"right\", bbox=dict(facecolor=\"white\", alpha=0.7))\n",
    "\n",
    "    ax.plot(time, rtt, \".\", markersize=1, c=f\"C{i}\", alpha=0.5)\n",
    "\n",
    "plt.show()"
   ]
  }
 ],
 "metadata": {
  "kernelspec": {
   "display_name": "Python 3.9.5 ('base')",
   "language": "python",
   "name": "python3"
  },
  "language_info": {
   "codemirror_mode": {
    "name": "ipython",
    "version": 3
   },
   "file_extension": ".py",
   "mimetype": "text/x-python",
   "name": "python",
   "nbconvert_exporter": "python",
   "pygments_lexer": "ipython3",
   "version": "3.9.5"
  },
  "orig_nbformat": 4,
  "vscode": {
   "interpreter": {
    "hash": "cf169506e97fa06e4e16338557436112a6b18df2b3b704c8a31be580836b76c0"
   }
  }
 },
 "nbformat": 4,
 "nbformat_minor": 2
}
